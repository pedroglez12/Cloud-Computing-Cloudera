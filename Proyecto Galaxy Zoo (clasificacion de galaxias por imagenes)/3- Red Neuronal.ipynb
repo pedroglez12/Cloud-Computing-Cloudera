{
 "cells": [
  {
   "cell_type": "code",
   "execution_count": 1,
   "metadata": {
    "collapsed": true
   },
   "outputs": [],
   "source": [
    "%matplotlib inline\n",
    "\n",
    "import matplotlib.pyplot as plt\n",
    "from pyspark.ml.evaluation import BinaryClassificationEvaluator as BCE\n",
    "from pyspark.ml.classification import MultilayerPerceptronClassifier\n",
    "\n",
    "import week4 as w4"
   ]
  },
  {
   "cell_type": "markdown",
   "metadata": {},
   "source": [
    "## Introducción\n",
    "\n",
    "Existen multitud de algoritmos de aprendijaze diferentes y cada uno de ellos puede rendir mejor o peor dependiendo de la tipología y distribución de los datos,etc.\n",
    "\n",
    "Aunque hemos obtenido un porcentaje de aciertos razonablemente bueno mediante un modelo de regresión logística, valoremos la utilización de otros métodos.\n",
    "\n",
    "Una de las tipologías de algoritmos más utilizadas para la clasificación de imágenes es la Red Neuronal.Vamos a utilizar una para intentar obtener una fiabilidad más alta."
   ]
  },
  {
   "cell_type": "markdown",
   "metadata": {},
   "source": [
    "## Lectura y manipulación de los datos\n",
    "\n",
    "Igual como hicimos anteriormente, tenemos que leer y manipular ligeramente los datos."
   ]
  },
  {
   "cell_type": "code",
   "execution_count": 2,
   "metadata": {
    "collapsed": true
   },
   "outputs": [],
   "source": [
    "df_raw = sqlContext.read.parquet('pca_features.parquet')\n",
    "df = df_raw.withColumn('label', (df_raw['target'] - 1).astype('double'))['dr7objid', 'pca_features', 'label']"
   ]
  },
  {
   "cell_type": "markdown",
   "metadata": {},
   "source": [
    "## Modelo de redes neuronales\n",
    "\n",
    "### Partición Test - Train"
   ]
  },
  {
   "cell_type": "code",
   "execution_count": 3,
   "metadata": {
    "collapsed": true
   },
   "outputs": [],
   "source": [
    "(df_train, df_test) = df.randomSplit([0.7, 0.3], seed=1234)"
   ]
  },
  {
   "cell_type": "markdown",
   "metadata": {},
   "source": [
    "### Entrenamiento"
   ]
  },
  {
   "cell_type": "markdown",
   "metadata": {},
   "source": [
    "Primero tenemos que definir la estructura de nuestra red neuronal.\n",
    "\n",
    "Una red neuronal està compuesta por capas y cada capa por un conjunto de nodos. En pySpark, esta estructura se define a través de una lista en que cada valor representa el número de nodos de la capa.\n",
    "\n",
    "Así pues:\n",
    "* la lista [5, 10, 1] define una red neuronal de tres capas con 5, 10 y 1 nodos respecivamente\n",
    "* la lista [20, 10, 5, 2] define una red de 4 capas con 20, 10, 5 y 2 nodos.\n",
    "\n",
    "Las redes neuronales tienen 3 tipos de capas:\n",
    "* de entrada: solo hay una, debe tener tantos nodos como features (atributos) en el dataset y corresponde a la primera posición de la lista.\n",
    "* ocultas: pueden haber varías y no tienen ninguna restricción en cuanto al número de capas ni de nodos. En general, cuántas más capas ocultas haya, más preciso será el algoritmo y será más costoso de entrenar.\n",
    "* de salida: solo hay una, debe tener tantos nodos como clases en el dataset y corresponde a la última posición de la lista.\n",
    "\n",
    "Así pues, para nuestro ejemplo deberemos configurar una red neuronal con una estructura de este tipo\n",
    "`[64, ..., 2]`"
   ]
  },
  {
   "cell_type": "code",
   "execution_count": 14,
   "metadata": {
    "collapsed": true
   },
   "outputs": [],
   "source": [
    "layers = [64,16, 8, 2]"
   ]
  },
  {
   "cell_type": "markdown",
   "metadata": {},
   "source": [
    "Ahora sí, creamos la red neuronal y la entrenamos."
   ]
  },
  {
   "cell_type": "code",
   "execution_count": 15,
   "metadata": {
    "collapsed": true
   },
   "outputs": [],
   "source": [
    "mlp = MultilayerPerceptronClassifier(labelCol=\"label\",\n",
    "                                     featuresCol=\"pca_features\", \n",
    "                                     maxIter=100, \n",
    "                                     layers=layers, \n",
    "                                     seed=123)"
   ]
  },
  {
   "cell_type": "code",
   "execution_count": 16,
   "metadata": {
    "collapsed": true
   },
   "outputs": [],
   "source": [
    "mlp_model = mlp.fit(df_train)"
   ]
  },
  {
   "cell_type": "markdown",
   "metadata": {},
   "source": [
    "### Validación"
   ]
  },
  {
   "cell_type": "code",
   "execution_count": 17,
   "metadata": {
    "collapsed": true
   },
   "outputs": [],
   "source": [
    "pred_df = mlp_model.transform(df_test)"
   ]
  },
  {
   "cell_type": "code",
   "execution_count": 18,
   "metadata": {},
   "outputs": [
    {
     "name": "stdout",
     "output_type": "stream",
     "text": [
      "Recall / Sensitivity / TPR =  0.9536903039073806\n",
      "Specificity = 1 - FPR =  0.9340659340659341\n",
      "Precision =  0.9648609077598829\n",
      "Prevalence =  0.6549763033175355\n",
      "Accuracy =  0.9469194312796209\n",
      "+-----+----------+-----+\n",
      "|label|prediction|count|\n",
      "+-----+----------+-----+\n",
      "|  0.0|       0.0|  340|\n",
      "|  0.0|       1.0|   24|\n",
      "|  1.0|       0.0|   32|\n",
      "|  1.0|       1.0|  659|\n",
      "+-----+----------+-----+\n",
      "\n"
     ]
    }
   ],
   "source": [
    "cm = w4.confussion_matrix(pred_df, 'label', 'prediction').show()"
   ]
  },
  {
   "cell_type": "markdown",
   "metadata": {},
   "source": [
    "Vemos que el porcentaje de aciertos se ha incrementado con respecto al algoritmo de regresión logística. Ahora tenemos cerca de un 95% de aciertos."
   ]
  }
 ],
 "metadata": {
  "anaconda-cloud": {},
  "kernelspec": {
   "display_name": "Python 3 (ipykernel)",
   "language": "python",
   "name": "python3"
  },
  "language_info": {
   "codemirror_mode": {
    "name": "ipython",
    "version": 3
   },
   "file_extension": ".py",
   "mimetype": "text/x-python",
   "name": "python",
   "nbconvert_exporter": "python",
   "pygments_lexer": "ipython3",
   "version": "3.9.12"
  },
  "toc": {
   "base_numbering": 1,
   "nav_menu": {},
   "number_sections": true,
   "sideBar": true,
   "skip_h1_title": false,
   "title_cell": "Table of Contents",
   "title_sidebar": "Contents",
   "toc_cell": false,
   "toc_position": {},
   "toc_section_display": true,
   "toc_window_display": false
  }
 },
 "nbformat": 4,
 "nbformat_minor": 1
}
